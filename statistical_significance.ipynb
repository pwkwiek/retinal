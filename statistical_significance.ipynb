{
  "nbformat": 4,
  "nbformat_minor": 0,
  "metadata": {
    "colab": {
      "provenance": []
    },
    "kernelspec": {
      "name": "python3",
      "display_name": "Python 3"
    },
    "language_info": {
      "name": "python"
    }
  },
  "cells": [
    {
      "cell_type": "markdown",
      "source": [
        "#### results of statistical analysis for clahe no clahe for results with Attention U-Net grayscale images"
      ],
      "metadata": {
        "id": "pKiMRt63fA9E"
      }
    },
    {
      "cell_type": "code",
      "source": [
        "import pandas as pd\n",
        "\n",
        "# Replace with your actual file paths\n",
        "df_no_pre = pd.read_csv(\"gray_metrics.csv\")\n",
        "df_pre = pd.read_csv(\"gray_metrics_clahe.csv\")\n",
        "\n",
        "from scipy.stats import shapiro\n",
        "\n",
        "# Normality test\n",
        "stat_no, p_no = shapiro(df_no_pre[\"Dice\"])\n",
        "stat_pre, p_pre = shapiro(df_pre[\"Dice\"])\n",
        "\n",
        "print(f\"Without preprocessing: p = {p_no:.4f}\")\n",
        "print(f\"With preprocessing: p = {p_pre:.4f}\")\n",
        "\n",
        "import seaborn as sns\n",
        "import matplotlib.pyplot as plt\n",
        "\n",
        "# Combine into one dataframe for plotting\n",
        "df_no_pre[\"Group\"] = \"Without Preprocessing\"\n",
        "df_pre[\"Group\"] = \"With Preprocessing\"\n",
        "df_combined = pd.concat([df_no_pre, df_pre])\n",
        "\n",
        "# Boxplot\n",
        "sns.boxplot(x=\"Group\", y=\"Dice\", data=df_combined)\n",
        "plt.title(\"DICE Scores: With vs Without Preprocessing\")\n",
        "plt.ylabel(\"DICE\")\n",
        "plt.xticks(rotation=15)\n",
        "plt.tight_layout()\n",
        "plt.show()\n",
        "\n",
        "from scipy.stats import ttest_rel\n",
        "\n",
        "t_stat, p_val = ttest_rel(df_no_pre[\"Dice\"], df_pre[\"Dice\"])\n",
        "print(f\"Paired t-test statistic = {t_stat:.4f}, p-value = {p_val:.4f}\")\n"
      ],
      "metadata": {
        "id": "EoXUWaV5fBcT"
      },
      "execution_count": null,
      "outputs": []
    },
    {
      "cell_type": "markdown",
      "source": [
        "#### do the same for gray vs. yuv:y"
      ],
      "metadata": {
        "id": "Dsy9bfimgXyQ"
      }
    },
    {
      "cell_type": "code",
      "source": [
        "import pandas as pd\n",
        "import seaborn as sns\n",
        "import matplotlib.pyplot as plt\n",
        "from scipy.stats import shapiro, wilcoxon\n",
        "\n",
        "# Load CSVs\n",
        "df_no_pre = pd.read_csv(\"gray_metrics.csv\")\n",
        "df_pre = pd.read_csv(\"yuvy_metrics.csv\")\n",
        "\n",
        "# Normality check\n",
        "stat_no, p_no = shapiro(df_no_pre[\"Dice\"])\n",
        "stat_pre, p_pre = shapiro(df_pre[\"Dice\"])\n",
        "print(f\"Without preprocessing: p = {p_no:.4f}\")\n",
        "print(f\"With preprocessing: p = {p_pre:.4f}\")\n",
        "\n",
        "# Combine for boxplot\n",
        "df_no_pre[\"Group\"] = \"Gray\"\n",
        "df_pre[\"Group\"] = \"YUV: Y\"\n",
        "df_combined = pd.concat([df_no_pre, df_pre])\n",
        "\n",
        "palette = {\n",
        "    \"Gray\": \"#B3002D\",  # dark green\n",
        "    \"YUV: Y\": \"#007A33\"      # lighter green\n",
        "}\n",
        "\n",
        "# Boxplot with custom color\n",
        "sns.boxplot(x=\"Group\", y=\"Dice\", data=df_combined, palette=palette)\n",
        "plt.title(\"DICE Scores: gray vs yuv: y\")\n",
        "plt.ylabel(\"DICE\")\n",
        "plt.tight_layout()\n",
        "plt.grid()\n",
        "plt.show()\n",
        "\n",
        "# Wilcoxon signed-rank test (paired, non-parametric)\n",
        "stat, p = wilcoxon(df_no_pre[\"Dice\"], df_pre[\"Dice\"])\n",
        "print(f\"Wilcoxon signed-rank test statistic = {stat:.4f}, p-value = {p:.4f}\")\n"
      ],
      "metadata": {
        "id": "6zztHwcvte8b"
      },
      "execution_count": null,
      "outputs": []
    }
  ]
}